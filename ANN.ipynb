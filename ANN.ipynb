{
 "cells": [
  {
   "cell_type": "code",
   "execution_count": 1,
   "id": "cde63dae",
   "metadata": {},
   "outputs": [],
   "source": [
    "import pandas as pd\n",
    "import numpy as np\n",
    "import tensorflow as tf"
   ]
  },
  {
   "cell_type": "code",
   "execution_count": 2,
   "id": "9ef52652",
   "metadata": {},
   "outputs": [],
   "source": [
    "dataset = pd.read_csv(\"full_data.csv\")\n",
    "X= dataset.iloc[:, :-1].values\n",
    "y= dataset.iloc[:, -1].values"
   ]
  },
  {
   "cell_type": "code",
   "execution_count": 3,
   "id": "6db140af",
   "metadata": {},
   "outputs": [
    {
     "data": {
      "text/plain": [
       "array([['Male', 67.0, 0, ..., 228.69, 36.6, 'formerly smoked'],\n",
       "       ['Male', 80.0, 0, ..., 105.92, 32.5, 'never smoked'],\n",
       "       ['Female', 49.0, 0, ..., 171.23, 34.4, 'smokes'],\n",
       "       ...,\n",
       "       ['Female', 45.0, 1, ..., 95.02, 31.8, 'smokes'],\n",
       "       ['Male', 40.0, 0, ..., 83.94, 30.0, 'smokes'],\n",
       "       ['Female', 80.0, 1, ..., 83.75, 29.1, 'never smoked']],\n",
       "      dtype=object)"
      ]
     },
     "execution_count": 3,
     "metadata": {},
     "output_type": "execute_result"
    }
   ],
   "source": [
    "X"
   ]
  },
  {
   "cell_type": "code",
   "execution_count": 4,
   "id": "466dcb2b",
   "metadata": {},
   "outputs": [],
   "source": [
    "from sklearn.preprocessing import LabelEncoder\n",
    "le = LabelEncoder()\n",
    "X[:, 0] = le.fit_transform(X[:, 0])\n",
    "X[:, 4] = le.fit_transform(X[:, 4])\n",
    "X[:, 6] = le.fit_transform(X[:, 6])"
   ]
  },
  {
   "cell_type": "code",
   "execution_count": 5,
   "id": "35f13b4f",
   "metadata": {},
   "outputs": [
    {
     "data": {
      "text/plain": [
       "array([[1, 67.0, 0, ..., 228.69, 36.6, 'formerly smoked'],\n",
       "       [1, 80.0, 0, ..., 105.92, 32.5, 'never smoked'],\n",
       "       [0, 49.0, 0, ..., 171.23, 34.4, 'smokes'],\n",
       "       ...,\n",
       "       [0, 45.0, 1, ..., 95.02, 31.8, 'smokes'],\n",
       "       [1, 40.0, 0, ..., 83.94, 30.0, 'smokes'],\n",
       "       [0, 80.0, 1, ..., 83.75, 29.1, 'never smoked']], dtype=object)"
      ]
     },
     "execution_count": 5,
     "metadata": {},
     "output_type": "execute_result"
    }
   ],
   "source": [
    "X"
   ]
  },
  {
   "cell_type": "code",
   "execution_count": 6,
   "id": "551d0fa1",
   "metadata": {},
   "outputs": [],
   "source": [
    "from sklearn.compose import ColumnTransformer\n",
    "from sklearn.preprocessing import OneHotEncoder\n",
    "ct = ColumnTransformer(transformers=[('encoder', OneHotEncoder(), [5,9])], remainder='passthrough')\n",
    "X = np.array(ct.fit_transform(X))"
   ]
  },
  {
   "cell_type": "code",
   "execution_count": 7,
   "id": "e3f74a68",
   "metadata": {},
   "outputs": [
    {
     "data": {
      "text/plain": [
       "array([[0.0, 1.0, 0.0, ..., 1, 228.69, 36.6],\n",
       "       [0.0, 1.0, 0.0, ..., 0, 105.92, 32.5],\n",
       "       [0.0, 1.0, 0.0, ..., 1, 171.23, 34.4],\n",
       "       ...,\n",
       "       [1.0, 0.0, 0.0, ..., 0, 95.02, 31.8],\n",
       "       [0.0, 1.0, 0.0, ..., 0, 83.94, 30.0],\n",
       "       [0.0, 1.0, 0.0, ..., 1, 83.75, 29.1]], dtype=object)"
      ]
     },
     "execution_count": 7,
     "metadata": {},
     "output_type": "execute_result"
    }
   ],
   "source": [
    "X"
   ]
  },
  {
   "cell_type": "code",
   "execution_count": 8,
   "id": "7eb46aac",
   "metadata": {},
   "outputs": [],
   "source": [
    "from sklearn.model_selection import train_test_split\n",
    "X_train, X_test, y_train, y_test = train_test_split(X, y, test_size = 0.2, random_state = 0)"
   ]
  },
  {
   "cell_type": "code",
   "execution_count": 9,
   "id": "cb4b4e05",
   "metadata": {},
   "outputs": [],
   "source": [
    "from sklearn.preprocessing import StandardScaler\n",
    "sc = StandardScaler()\n",
    "X_train = sc.fit_transform(X_train)\n",
    "X_test = sc.transform(X_test)"
   ]
  },
  {
   "cell_type": "code",
   "execution_count": 19,
   "id": "3aefad62",
   "metadata": {},
   "outputs": [],
   "source": [
    "ann = tf.keras.models.Sequential()"
   ]
  },
  {
   "cell_type": "code",
   "execution_count": 20,
   "id": "8a36b566",
   "metadata": {},
   "outputs": [],
   "source": [
    "ann.add(tf.keras.layers.Dense(units=10, activation='relu'))"
   ]
  },
  {
   "cell_type": "code",
   "execution_count": 21,
   "id": "4282edfe",
   "metadata": {},
   "outputs": [],
   "source": [
    "ann.add(tf.keras.layers.Dense(units=8, activation='relu'))"
   ]
  },
  {
   "cell_type": "code",
   "execution_count": 22,
   "id": "4ff1b45f",
   "metadata": {},
   "outputs": [],
   "source": [
    "ann.add(tf.keras.layers.Dense(units=1, activation='sigmoid'))"
   ]
  },
  {
   "cell_type": "code",
   "execution_count": 23,
   "id": "7e545e53",
   "metadata": {},
   "outputs": [],
   "source": [
    "ann.compile(optimizer = 'adam', loss = 'binary_crossentropy', metrics = ['accuracy'])"
   ]
  },
  {
   "cell_type": "code",
   "execution_count": 24,
   "id": "df20ab1f",
   "metadata": {},
   "outputs": [
    {
     "name": "stdout",
     "output_type": "stream",
     "text": [
      "Epoch 1/50\n",
      "498/498 [==============================] - 1s 895us/step - loss: 0.2232 - accuracy: 0.9506\n",
      "Epoch 2/50\n",
      "498/498 [==============================] - 0s 929us/step - loss: 0.1707 - accuracy: 0.9503\n",
      "Epoch 3/50\n",
      "498/498 [==============================] - 0s 900us/step - loss: 0.1661 - accuracy: 0.9503\n",
      "Epoch 4/50\n",
      "498/498 [==============================] - 0s 905us/step - loss: 0.1623 - accuracy: 0.9503\n",
      "Epoch 5/50\n",
      "498/498 [==============================] - 0s 917us/step - loss: 0.1599 - accuracy: 0.9503\n",
      "Epoch 6/50\n",
      "498/498 [==============================] - 0s 899us/step - loss: 0.1589 - accuracy: 0.9503\n",
      "Epoch 7/50\n",
      "498/498 [==============================] - 0s 913us/step - loss: 0.1573 - accuracy: 0.9503\n",
      "Epoch 8/50\n",
      "498/498 [==============================] - 0s 936us/step - loss: 0.1564 - accuracy: 0.9503\n",
      "Epoch 9/50\n",
      "498/498 [==============================] - 0s 889us/step - loss: 0.1551 - accuracy: 0.9508\n",
      "Epoch 10/50\n",
      "498/498 [==============================] - 0s 934us/step - loss: 0.1543 - accuracy: 0.9508\n",
      "Epoch 11/50\n",
      "498/498 [==============================] - 0s 937us/step - loss: 0.1536 - accuracy: 0.9506\n",
      "Epoch 12/50\n",
      "498/498 [==============================] - 0s 915us/step - loss: 0.1530 - accuracy: 0.9508\n",
      "Epoch 13/50\n",
      "498/498 [==============================] - 0s 907us/step - loss: 0.1524 - accuracy: 0.9506\n",
      "Epoch 14/50\n",
      "498/498 [==============================] - 0s 910us/step - loss: 0.1514 - accuracy: 0.9511\n",
      "Epoch 15/50\n",
      "498/498 [==============================] - 0s 939us/step - loss: 0.1509 - accuracy: 0.9511\n",
      "Epoch 16/50\n",
      "498/498 [==============================] - 0s 927us/step - loss: 0.1507 - accuracy: 0.9511\n",
      "Epoch 17/50\n",
      "498/498 [==============================] - 0s 933us/step - loss: 0.1502 - accuracy: 0.9513\n",
      "Epoch 18/50\n",
      "498/498 [==============================] - 0s 959us/step - loss: 0.1501 - accuracy: 0.9513\n",
      "Epoch 19/50\n",
      "498/498 [==============================] - 1s 1ms/step - loss: 0.1493 - accuracy: 0.9516\n",
      "Epoch 20/50\n",
      "498/498 [==============================] - 0s 915us/step - loss: 0.1490 - accuracy: 0.9513\n",
      "Epoch 21/50\n",
      "498/498 [==============================] - 0s 939us/step - loss: 0.1483 - accuracy: 0.9511\n",
      "Epoch 22/50\n",
      "498/498 [==============================] - 0s 894us/step - loss: 0.1487 - accuracy: 0.9513\n",
      "Epoch 23/50\n",
      "498/498 [==============================] - 0s 904us/step - loss: 0.1478 - accuracy: 0.9518\n",
      "Epoch 24/50\n",
      "498/498 [==============================] - 0s 895us/step - loss: 0.1477 - accuracy: 0.9518\n",
      "Epoch 25/50\n",
      "498/498 [==============================] - 1s 1ms/step - loss: 0.1477 - accuracy: 0.9516\n",
      "Epoch 26/50\n",
      "498/498 [==============================] - 0s 940us/step - loss: 0.1476 - accuracy: 0.9511\n",
      "Epoch 27/50\n",
      "498/498 [==============================] - 0s 923us/step - loss: 0.1468 - accuracy: 0.9518\n",
      "Epoch 28/50\n",
      "498/498 [==============================] - 0s 942us/step - loss: 0.1464 - accuracy: 0.9516\n",
      "Epoch 29/50\n",
      "498/498 [==============================] - 0s 942us/step - loss: 0.1469 - accuracy: 0.9516\n",
      "Epoch 30/50\n",
      "498/498 [==============================] - 0s 946us/step - loss: 0.1462 - accuracy: 0.9518\n",
      "Epoch 31/50\n",
      "498/498 [==============================] - 1s 1ms/step - loss: 0.1454 - accuracy: 0.9526\n",
      "Epoch 32/50\n",
      "498/498 [==============================] - 0s 1000us/step - loss: 0.1460 - accuracy: 0.9521\n",
      "Epoch 33/50\n",
      "498/498 [==============================] - 0s 917us/step - loss: 0.1458 - accuracy: 0.9518\n",
      "Epoch 34/50\n",
      "498/498 [==============================] - 0s 904us/step - loss: 0.1457 - accuracy: 0.9511\n",
      "Epoch 35/50\n",
      "498/498 [==============================] - 0s 901us/step - loss: 0.1448 - accuracy: 0.9518\n",
      "Epoch 36/50\n",
      "498/498 [==============================] - 0s 936us/step - loss: 0.1452 - accuracy: 0.9513\n",
      "Epoch 37/50\n",
      "498/498 [==============================] - 0s 902us/step - loss: 0.1448 - accuracy: 0.9523\n",
      "Epoch 38/50\n",
      "498/498 [==============================] - 0s 906us/step - loss: 0.1446 - accuracy: 0.9518\n",
      "Epoch 39/50\n",
      "498/498 [==============================] - 0s 920us/step - loss: 0.1449 - accuracy: 0.9521\n",
      "Epoch 40/50\n",
      "498/498 [==============================] - 0s 925us/step - loss: 0.1445 - accuracy: 0.9513\n",
      "Epoch 41/50\n",
      "498/498 [==============================] - 0s 909us/step - loss: 0.1437 - accuracy: 0.9526\n",
      "Epoch 42/50\n",
      "498/498 [==============================] - 0s 884us/step - loss: 0.1443 - accuracy: 0.9511\n",
      "Epoch 43/50\n",
      "498/498 [==============================] - 0s 911us/step - loss: 0.1431 - accuracy: 0.9528\n",
      "Epoch 44/50\n",
      "498/498 [==============================] - 0s 914us/step - loss: 0.1435 - accuracy: 0.9523\n",
      "Epoch 45/50\n",
      "498/498 [==============================] - 0s 916us/step - loss: 0.1433 - accuracy: 0.9523\n",
      "Epoch 46/50\n",
      "498/498 [==============================] - 0s 912us/step - loss: 0.1429 - accuracy: 0.9518\n",
      "Epoch 47/50\n",
      "498/498 [==============================] - 0s 908us/step - loss: 0.1432 - accuracy: 0.9528\n",
      "Epoch 48/50\n",
      "498/498 [==============================] - 0s 925us/step - loss: 0.1424 - accuracy: 0.9531\n",
      "Epoch 49/50\n",
      "498/498 [==============================] - 1s 1ms/step - loss: 0.1423 - accuracy: 0.9523\n",
      "Epoch 50/50\n",
      "498/498 [==============================] - 0s 947us/step - loss: 0.1422 - accuracy: 0.9526\n"
     ]
    },
    {
     "data": {
      "text/plain": [
       "<keras.callbacks.History at 0x18cc3f40d60>"
      ]
     },
     "execution_count": 24,
     "metadata": {},
     "output_type": "execute_result"
    }
   ],
   "source": [
    "ann.fit(X_train, y_train, batch_size = 8, epochs = 50)"
   ]
  },
  {
   "cell_type": "code",
   "execution_count": 25,
   "id": "e1ae2dfd",
   "metadata": {},
   "outputs": [
    {
     "name": "stdout",
     "output_type": "stream",
     "text": [
      "32/32 [==============================] - 0s 775us/step\n",
      "[[0 0]\n",
      " [0 0]\n",
      " [0 0]\n",
      " ...\n",
      " [0 0]\n",
      " [0 0]\n",
      " [0 0]]\n"
     ]
    }
   ],
   "source": [
    "y_pred = ann.predict(X_test)\n",
    "y_pred = (y_pred > 0.5)\n",
    "print(np.concatenate((y_pred.reshape(len(y_pred),1), y_test.reshape(len(y_test),1)),1))"
   ]
  },
  {
   "cell_type": "code",
   "execution_count": 26,
   "id": "d18f028f",
   "metadata": {},
   "outputs": [
    {
     "name": "stdout",
     "output_type": "stream",
     "text": [
      "[[946   1]\n",
      " [ 50   0]]\n"
     ]
    },
    {
     "data": {
      "text/plain": [
       "0.9488465396188566"
      ]
     },
     "execution_count": 26,
     "metadata": {},
     "output_type": "execute_result"
    }
   ],
   "source": [
    "from sklearn.metrics import confusion_matrix, accuracy_score\n",
    "cm = confusion_matrix(y_test, y_pred)\n",
    "print(cm)\n",
    "accuracy_score(y_test, y_pred)"
   ]
  },
  {
   "cell_type": "code",
   "execution_count": null,
   "id": "8820fa6b",
   "metadata": {},
   "outputs": [],
   "source": []
  }
 ],
 "metadata": {
  "kernelspec": {
   "display_name": "Python 3",
   "language": "python",
   "name": "python3"
  },
  "language_info": {
   "codemirror_mode": {
    "name": "ipython",
    "version": 3
   },
   "file_extension": ".py",
   "mimetype": "text/x-python",
   "name": "python",
   "nbconvert_exporter": "python",
   "pygments_lexer": "ipython3",
   "version": "3.8.8"
  }
 },
 "nbformat": 4,
 "nbformat_minor": 5
}
